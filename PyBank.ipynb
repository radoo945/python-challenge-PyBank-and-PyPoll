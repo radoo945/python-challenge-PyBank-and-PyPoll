{
 "cells": [
  {
   "cell_type": "code",
   "execution_count": 1,
   "id": "9ca75d1f",
   "metadata": {},
   "outputs": [],
   "source": [
    "import os\n",
    "import csv\n",
    "\n",
    "budget_csv = os.path.join(\"Resources\", \"budget_data.csv\")\n"
   ]
  },
  {
   "cell_type": "code",
   "execution_count": 21,
   "id": "d141aa14",
   "metadata": {},
   "outputs": [
    {
     "name": "stdout",
     "output_type": "stream",
     "text": [
      "\n",
      "  Financial Analysis\n",
      "  ----------------------------\n",
      "  Total Months: 86\n",
      "  Total: $22564198\n",
      "  Average Change: $-8311.11\n",
      "  Greatest Increase in Profits: Aug-16, $1862002.00\n",
      "  Greatest Decrease in Profits: Feb-14, $-1825558.00\n",
      "  \n"
     ]
    }
   ],
   "source": [
    "change = []\n",
    "\n",
    "\n",
    "total_months = 0\n",
    "net_total = 0\n",
    "net_change = 0 \n",
    "greatest_increase = 0\n",
    "greatest_decrease = 0 \n",
    "\n",
    "\n",
    "with open(budget_csv) as csvfile:\n",
    "    csvreader = csv.reader(csvfile, delimiter=\",\")\n",
    "    csv_header = next(csvreader)\n",
    "    \n",
    "   \n",
    "    row = next(csvreader)\n",
    "    previous_row = int(row[1])\n",
    "    net_total += int(row[1])\n",
    "    total_months += 1\n",
    "\n",
    "\n",
    "\n",
    "    for row in csvreader:\n",
    "        \n",
    "       \n",
    "        total_months += 1\n",
    "\n",
    "        \n",
    "        net_total = net_total + int(row[1])\n",
    "\n",
    "       \n",
    "        net_change = int(row[1]) - previous_row\n",
    "\n",
    "       \n",
    "        change.append(net_change)\n",
    "\n",
    "       \n",
    "        previous_row = int(row[1])\n",
    "\n",
    "        \n",
    "        avg_change = sum(change) / len(change)\n",
    "\n",
    "       \n",
    "        if net_change > greatest_increase:\n",
    "            greatest_increase = net_change\n",
    "            greatest_increase_month = row[0]\n",
    "\n",
    "       \n",
    "        if net_change < greatest_decrease:\n",
    "            greatest_decrease = net_change\n",
    "            greatest_decrease_month = row[0]\n",
    "\n",
    "\n",
    "\n",
    "Financial_Analysis = f'''\n",
    "  Financial Analysis\n",
    "  ----------------------------\n",
    "  Total Months: {total_months}\n",
    "  Total: ${net_total}\n",
    "  Average Change: ${avg_change:.2f}\n",
    "  Greatest Increase in Profits: {greatest_increase_month}, ${greatest_increase:.2f}\n",
    "  Greatest Decrease in Profits: {greatest_decrease_month}, ${greatest_decrease:.2f}\n",
    "  '''\n",
    "print(Financial_Analysis)\n",
    "\n",
    "\n",
    "\n",
    "\n"
   ]
  },
  {
   "cell_type": "code",
   "execution_count": null,
   "id": "e7811e38",
   "metadata": {},
   "outputs": [],
   "source": []
  }
 ],
 "metadata": {
  "kernelspec": {
   "display_name": "Python 3 (ipykernel)",
   "language": "python",
   "name": "python3"
  },
  "language_info": {
   "codemirror_mode": {
    "name": "ipython",
    "version": 3
   },
   "file_extension": ".py",
   "mimetype": "text/x-python",
   "name": "python",
   "nbconvert_exporter": "python",
   "pygments_lexer": "ipython3",
   "version": "3.9.12"
  }
 },
 "nbformat": 4,
 "nbformat_minor": 5
}
