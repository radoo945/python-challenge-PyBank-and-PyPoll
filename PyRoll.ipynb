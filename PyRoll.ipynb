{
 "cells": [
  {
   "cell_type": "code",
   "execution_count": 6,
   "id": "94028199",
   "metadata": {},
   "outputs": [
    {
     "name": "stdout",
     "output_type": "stream",
     "text": [
      "\n",
      "  Election Results\n",
      "  ----------------------------\n",
      "  Total Votes: 369711\n",
      "  ----------------------------\n",
      "  Charles Casper Stockham: 23.049% (85213)\n",
      "  Diana DeGette: 73.812% (272892)\n",
      "  Raymon Anthony Doane: 3.139% (11606)\n",
      "  ----------------------------\n",
      "  Winner: Diana DeGette\n",
      "  ----------------------------\n",
      "\n"
     ]
    }
   ],
   "source": [
    "import os\n",
    "import csv\n",
    "from collections import Counter \n",
    "\n",
    "\n",
    "election_csv = os.path.join(\"Resources\", \"election_data.csv\")\n",
    "\n",
    "\n",
    "candidate = []\n",
    "total_votes = 0\n",
    "\n",
    "\n",
    "with open(election_csv) as csvfile:\n",
    "    csvreader = csv.reader(csvfile, delimiter=\",\")\n",
    "    csv_header = next(csvreader)\n",
    "    \n",
    "    \n",
    "     \n",
    "    for row in csvreader:\n",
    "\n",
    "        \n",
    "        candidate.append(row[2])\n",
    "        \n",
    "        total_votes +=1\n",
    "        \n",
    "    \n",
    "    candidate_totals = dict(Counter(candidate))\n",
    "\n",
    "    \n",
    "    winning_total = 0\n",
    "\n",
    "   \n",
    "    for name, vote in candidate_totals.items():\n",
    "      if vote > winning_total:\n",
    "        winner = name\n",
    "        winning_total = vote\n",
    "\n",
    "Election_Results = f'''\n",
    "  Election Results\n",
    "  ----------------------------\n",
    "  Total Votes: {total_votes}\n",
    "  ----------------------------\n",
    "  Charles Casper Stockham: {(candidate_totals['Charles Casper Stockham']/total_votes) * 100:.3f}% ({candidate_totals['Charles Casper Stockham']})\n",
    "  Diana DeGette: {(candidate_totals['Diana DeGette']/total_votes) * 100:.3f}% ({candidate_totals['Diana DeGette']})\n",
    "  Raymon Anthony Doane: {(candidate_totals['Raymon Anthony Doane']/total_votes) * 100:.3f}% ({candidate_totals['Raymon Anthony Doane']})\n",
    "  ----------------------------\n",
    "  Winner: {winner}\n",
    "  ----------------------------\n",
    "'''\n",
    "print(Election_Results)\n",
    "\n",
    "\n"
   ]
  },
  {
   "cell_type": "code",
   "execution_count": null,
   "id": "6083625c",
   "metadata": {},
   "outputs": [],
   "source": []
  },
  {
   "cell_type": "code",
   "execution_count": null,
   "id": "ba253c00",
   "metadata": {},
   "outputs": [],
   "source": []
  }
 ],
 "metadata": {
  "kernelspec": {
   "display_name": "Python 3 (ipykernel)",
   "language": "python",
   "name": "python3"
  },
  "language_info": {
   "codemirror_mode": {
    "name": "ipython",
    "version": 3
   },
   "file_extension": ".py",
   "mimetype": "text/x-python",
   "name": "python",
   "nbconvert_exporter": "python",
   "pygments_lexer": "ipython3",
   "version": "3.9.12"
  }
 },
 "nbformat": 4,
 "nbformat_minor": 5
}
